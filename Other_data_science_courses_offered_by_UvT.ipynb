{
  "nbformat": 4,
  "nbformat_minor": 0,
  "metadata": {
    "colab": {
      "name": "Other data science courses offered by UvT.ipynb",
      "version": "0.3.2",
      "provenance": [],
      "collapsed_sections": [],
      "include_colab_link": true
    },
    "kernelspec": {
      "name": "python3",
      "display_name": "Python 3"
    }
  },
  "cells": [
    {
      "cell_type": "markdown",
      "metadata": {
        "id": "view-in-github",
        "colab_type": "text"
      },
      "source": [
        "<a href=\"https://colab.research.google.com/github/madina-k/madina-k.github.io/blob/master/Other_data_science_courses_offered_by_UvT.ipynb\" target=\"_parent\"><img src=\"https://colab.research.google.com/assets/colab-badge.svg\" alt=\"Open In Colab\"/></a>"
      ]
    },
    {
      "metadata": {
        "id": "RYZKSNHJOwOh",
        "colab_type": "text"
      },
      "cell_type": "markdown",
      "source": [
        "# Our course topics:\n",
        "\n",
        "\n",
        "*  Week 1. Intro to data analyses (recap of OLS, MLE, IV econometrics)\n",
        "*  Week 2. Prediction methods vs causal inference (recap of ATE, CATE, ATT, ATNT)\n",
        "*  Week X. Cross-validation: Regression with regularization (LASSO, RIDGE, etc.); Winner's curse \n",
        "*  Week X. Cross-validation: Random trees (Machine learning) \n",
        "*  Week X. Reading through and replicating some parts of Bellini, Chernozhukov, and Hansen's paper\n",
        "*  Week X. (cont'd) with double machine learning techniques \n",
        "* Week X. Heterogeneous treatment effects\n",
        "* Week X. Dealing with a project. Data management (tidyverse in R, git, )\n",
        "*  Week X. recap\n",
        "\n",
        "We have 9 weeks of two leactures. I propose to split into 4 weeks of theoretical material and 5 weeks of practical \"dirty-your-hands\"-style lectures. This probably means that each week we have one theoretical lecture followed by one or two practical interactive lectures.\n",
        "\n",
        "\n",
        "\n",
        "# Other data science courses offered by Tilburg University:\n",
        "\n",
        "\n",
        "In [Data science methods by Otilia Boldea ](https://catalogus.tilburguniversity.edu/osiris_student_tiuprd/OnderwijsCatalogusSelect.do?selectie=cursus&collegejaar=2018&taal=en&cursus=35M2C6-M-6), she covers:\n",
        "\n",
        "\n",
        "\n",
        "*   Cleaning, summarizing and visualizing big data.\n",
        "*   Model selection for prediction.\n",
        "*   Model selection for classification. For example, you observe (many) customers and their characteristics, and you want to predict which customer will default on his loan. You use machine learning methods such as classification trees, bagging and boosting.\n",
        "*   Causal inference and big data. For example, you want to estimate the causal effect of police presence on crime, and you use machine learning techniques to accurately predict the counterfactual.\n",
        "\n",
        "\n",
        "How will our course be different?  To answer this question, we should know the exact reading list and papers coverd by Otilia.\n",
        "\n",
        "I suggest putting an emphasis to causal inference of heterogeneous treatment effects  as the main goal of the lecture series. \n",
        "\n",
        "\n",
        "\n",
        "\n"
      ]
    }
  ]
}